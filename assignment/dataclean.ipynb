{
 "cells": [
  {
   "cell_type": "code",
   "execution_count": 61,
   "metadata": {},
   "outputs": [],
   "source": [
    "import pandas as pd\n",
    "import numpy as np\n"
   ]
  },
  {
   "cell_type": "code",
   "execution_count": 62,
   "metadata": {},
   "outputs": [],
   "source": [
    "with open(\"traindata.txt\",\"r\") as f:\n",
    "    trainData = [i.split(\",\") for i in f.readlines()]\n",
    "\n",
    "trainData_array = np.array(trainData)\n",
    "df = pd.DataFrame(trainData_array)"
   ]
  },
  {
   "cell_type": "code",
   "execution_count": 63,
   "metadata": {},
   "outputs": [
    {
     "name": "stdout",
     "output_type": "stream",
     "text": [
      "        0          1          2          3          4          5     \\\n",
      "0  33.167786   9.462100  50.246693  24.813057  29.595383   6.788610   \n",
      "1  33.347870  72.296570  49.780758  21.914070  11.955104   8.121966   \n",
      "2   2.140534  66.103172  14.212941  18.855560  55.134956  14.152965   \n",
      "3  38.091331  62.345455  37.483807  25.661188  11.391671  35.225670   \n",
      "4  42.160133  25.208063  68.065666  48.452103  54.928009   7.298090   \n",
      "\n",
      "        6          7          8          9     ...       1031       1032  \\\n",
      "0  10.017276  36.381538  65.653381  46.273445  ...  43.415424  60.040314   \n",
      "1  70.963631  60.014278  12.690736  71.657326  ...  39.710003  22.625708   \n",
      "2  13.873693  12.757165  43.216164  31.671015  ...  36.471901  49.587204   \n",
      "3  46.482422  19.526508  58.869076  32.267696  ...  48.204754  41.682693   \n",
      "4  22.245430  47.488438   2.296448  29.252346  ...  64.994522  50.196850   \n",
      "\n",
      "        1033       1034       1035       1036       1037       1038  \\\n",
      "0  71.294220   5.008817  26.580570  47.612900  52.333241  10.655764   \n",
      "1  51.727539  53.425289  38.315853  60.974651  24.388741  47.736012   \n",
      "2  59.752728  58.294636  30.924591   8.406471  49.879147  58.096703   \n",
      "3   2.377941  56.081192   3.282435  65.298950  31.559982  25.515041   \n",
      "4  60.758167  43.742970  61.693054  52.901905  65.253136  50.215240   \n",
      "\n",
      "        1039  1040  \n",
      "0   0.255490   2.0  \n",
      "1  18.253160   1.0  \n",
      "2  58.166561   2.0  \n",
      "3  23.067381   2.0  \n",
      "4   3.133228   1.0  \n",
      "\n",
      "[5 rows x 1041 columns]\n",
      "\n",
      "\n",
      "<class 'pandas.core.frame.DataFrame'>\n",
      "RangeIndex: 5250 entries, 0 to 5249\n",
      "Columns: 1041 entries, 0 to 1040\n",
      "dtypes: float64(1041)\n",
      "memory usage: 41.7 MB\n",
      "None\n",
      "\n",
      "Basic statistics for numerical columns:\n",
      "              0            1            2            3            4     \\\n",
      "count  5250.000000  5250.000000  5250.000000  5250.000000  5250.000000   \n",
      "mean     37.029411    37.303392    37.277606    37.506231    38.049796   \n",
      "std      21.837695    21.582022    21.678729    21.519795    21.584883   \n",
      "min       0.007658     0.025956     0.014251     0.000973     0.015082   \n",
      "25%      17.984409    18.350853    18.911615    18.642442    19.132125   \n",
      "50%      36.573196    37.364351    36.688768    37.286861    38.636116   \n",
      "75%      56.142654    55.910142    55.964167    55.977695    56.885179   \n",
      "max      74.995110    74.996651    74.994057    74.990959    74.992882   \n",
      "\n",
      "              5            6            7            8            9     ...  \\\n",
      "count  5250.000000  5250.000000  5250.000000  5250.000000  5250.000000  ...   \n",
      "mean     37.436015    37.939796    37.442566    37.410829    37.376469  ...   \n",
      "std      21.507507    21.564987    21.582948    21.748516    21.639923  ...   \n",
      "min       0.092114     0.018925     0.005288     0.006360     0.025900  ...   \n",
      "25%      19.015797    19.731804    18.534760    18.735396    18.265100  ...   \n",
      "50%      37.290840    37.963898    37.589443    37.160898    37.882441  ...   \n",
      "75%      55.840130    57.023468    56.012692    56.454313    55.797335  ...   \n",
      "max      74.991875    74.965218    74.968712    74.960373    74.981407  ...   \n",
      "\n",
      "              1031         1032         1033         1034         1035  \\\n",
      "count  5250.000000  5250.000000  5250.000000  5250.000000  5250.000000   \n",
      "mean     36.789250    37.597518    37.552187    37.529570    37.448797   \n",
      "std      21.755588    21.665807    21.670611    21.868979    21.529312   \n",
      "min       0.009711     0.024730     0.002891     0.021107     0.005251   \n",
      "25%      18.138490    18.789977    18.975108    18.239207    18.737673   \n",
      "50%      36.288065    37.228888    37.412693    37.747007    37.547609   \n",
      "75%      55.485476    56.731731    56.454772    56.437458    55.877692   \n",
      "max      74.994408    74.996841    74.987930    74.998253    74.978348   \n",
      "\n",
      "              1036         1037         1038         1039         1040  \n",
      "count  5250.000000  5250.000000  5250.000000  5250.000000  5250.000000  \n",
      "mean     37.439522    37.599090    37.481151    37.125464     1.489143  \n",
      "std      21.762523    21.757002    21.671887    21.823833     1.115529  \n",
      "min       0.007959     0.034571     0.017004     0.010432     0.000000  \n",
      "25%      18.319020    18.784587    18.562487    17.982854     0.000000  \n",
      "50%      37.547527    37.770769    37.860979    36.889019     1.000000  \n",
      "75%      56.539650    56.544885    56.011053    56.334398     2.000000  \n",
      "max      74.990417    74.995438    74.991440    74.966011     3.000000  \n",
      "\n",
      "[8 rows x 1041 columns]\n"
     ]
    }
   ],
   "source": [
    "df = df.apply(pd.to_numeric)\n",
    "\n",
    "print(df.head())\n",
    "print(\"\\n\")\n",
    "print(df.info())\n",
    "\n",
    "print(\"\\nBasic statistics for numerical columns:\")\n",
    "print(df.describe())"
   ]
  },
  {
   "cell_type": "code",
   "execution_count": 64,
   "metadata": {},
   "outputs": [
    {
     "data": {
      "text/plain": [
       "[88, 92, 98, 209, 447, 454, 545, 677, 722, 743, 763, 790, 804, 817, 893, 1014]"
      ]
     },
     "execution_count": 64,
     "metadata": {},
     "output_type": "execute_result"
    }
   ],
   "source": [
    "negatives = []\n",
    "\n",
    "for i in range(1041):\n",
    "    if (df[i].min()<0):\n",
    "        negatives.append(i)\n",
    "\n",
    "negatives"
   ]
  },
  {
   "cell_type": "code",
   "execution_count": null,
   "metadata": {},
   "outputs": [],
   "source": []
  },
  {
   "cell_type": "code",
   "execution_count": 65,
   "metadata": {},
   "outputs": [
    {
     "name": "stdout",
     "output_type": "stream",
     "text": [
      "88:-1.0:-256.0:-127.88666666666667\n",
      "92:-1.0:-256.0:-127.41714285714286\n",
      "98:-1.0:-256.0:-127.88780952380952\n",
      "209:-1.0:-256.0:-128.81295238095237\n",
      "447:-1.0:-256.0:-129.20609523809523\n",
      "454:-1.0:-256.0:-128.62190476190477\n",
      "545:-1.0:-256.0:-129.78266666666667\n",
      "677:-1.0:-256.0:-127.33104761904762\n",
      "722:-1.0:-256.0:-129.15485714285714\n",
      "743:-1.0:-256.0:-128.97695238095238\n",
      "763:-1.0:-256.0:-128.79638095238096\n",
      "790:-1.0:-256.0:-127.42590476190476\n",
      "804:-1.0:-256.0:-127.40571428571428\n",
      "817:-1.0:-256.0:-126.67619047619047\n",
      "893:-1.0:-256.0:-128.74933333333334\n",
      "1014:-1.0:-256.0:-128.37714285714284\n"
     ]
    }
   ],
   "source": [
    "for i in negatives:\n",
    "    print(f\"{i}:{df[i].max()}:{df[i].min()}:{df[i].mean()}\")"
   ]
  },
  {
   "cell_type": "code",
   "execution_count": 66,
   "metadata": {},
   "outputs": [],
   "source": [
    "def getMinMax(df):\n",
    "    max1 = df[0].max()\n",
    "    min1 = df[0].min()\n",
    "\n",
    "    for i in range(df.shape[1]):\n",
    "        curr = df[i]\n",
    "\n",
    "        if (curr.min()<min1):\n",
    "            min1=curr.min()\n",
    "        \n",
    "        if (curr.max()>max1):\n",
    "            max1=curr.max()\n",
    "\n",
    "\n",
    "    return min1,max1\n"
   ]
  },
  {
   "cell_type": "code",
   "execution_count": 67,
   "metadata": {},
   "outputs": [
    {
     "name": "stdout",
     "output_type": "stream",
     "text": [
      "Outlier Columns:\n",
      "Index([ 89, 172, 189, 210, 236, 287, 367, 383, 416, 448, 455, 460, 462, 467,\n",
      "       531, 546, 565, 574, 653, 666, 678, 702, 723, 726, 764, 787, 791, 805,\n",
      "       810, 818, 856, 861, 873, 892, 894, 924, 929, 964],\n",
      "      dtype='int64')\n",
      "DataFrame after removing outlier columns:\n",
      "(5250, 1003)\n"
     ]
    }
   ],
   "source": [
    "from scipy.stats import zscore\n",
    "\n",
    "df1 = df\n",
    "column_means = df1.mean()[:1040]\n",
    "\n",
    "# Calculate z-scores for the column means\n",
    "mean_zscores = zscore(column_means)\n",
    "\n",
    "# Define a threshold for identifying outliers\n",
    "threshold = 3\n",
    "\n",
    "# Identify columns where the z-score is greater than the threshold\n",
    "outlier_columns = column_means.index[abs(mean_zscores) > threshold]\n",
    "\n",
    "print(\"Outlier Columns:\")\n",
    "print(outlier_columns)\n",
    "\n",
    "df_cleaned = df1.drop(columns=outlier_columns)\n",
    "\n",
    "print(\"DataFrame after removing outlier columns:\")\n",
    "print(df_cleaned.shape)"
   ]
  },
  {
   "cell_type": "code",
   "execution_count": 86,
   "metadata": {},
   "outputs": [
    {
     "name": "stderr",
     "output_type": "stream",
     "text": [
      "/tmp/ipykernel_171081/2490776926.py:12: FutureWarning: errors='ignore' is deprecated and will raise in a future version. Use to_numeric without passing `errors` and catch exceptions explicitly instead\n",
      "  df = df.apply(pd.to_numeric, errors='ignore')\n"
     ]
    },
    {
     "name": "stdout",
     "output_type": "stream",
     "text": [
      "Outlier Rows:\n",
      "Index([  68,  202,  234,  442,  479,  553,  564,  589, 1120, 1242, 1357, 1584,\n",
      "       2017, 2588, 2724, 3117, 3396, 3414, 3603, 3747, 3845, 3916, 4351, 4479,\n",
      "       4496, 4604, 4692, 4711, 4806, 4830],\n",
      "      dtype='int64')\n",
      "DataFrame after removing outlier rows:\n",
      "NumPy Array:\n"
     ]
    },
    {
     "data": {
      "text/plain": [
       "(5219, 1041)"
      ]
     },
     "execution_count": 86,
     "metadata": {},
     "output_type": "execute_result"
    }
   ],
   "source": [
    "import pandas as pd\n",
    "from scipy.stats import zscore\n",
    "\n",
    "# Step 1: Load the data\n",
    "with open(\"traindata.txt\", \"r\") as f:\n",
    "    header = f.readline().strip().split(\",\")\n",
    "    trainData = [line.strip().split(\",\") for line in f.readlines()]\n",
    "\n",
    "df = pd.DataFrame(trainData, columns=header)\n",
    "\n",
    "# Convert specific columns to numeric types if needed\n",
    "df = df.apply(pd.to_numeric, errors='ignore')\n",
    "\n",
    "# Step 2: Calculate the mean of each row\n",
    "row_means = df.mean(axis=1)\n",
    "\n",
    "# Step 3: Calculate z-scores for the row means\n",
    "mean_zscores = zscore(row_means)\n",
    "\n",
    "# Step 4: Define a threshold for identifying outliers\n",
    "threshold = 3\n",
    "\n",
    "# Identify rows where the z-score is greater than the threshold\n",
    "outlier_rows = df.index[abs(mean_zscores) > threshold]\n",
    "\n",
    "print(\"Outlier Rows:\")\n",
    "print(outlier_rows)\n",
    "\n",
    "# Drop the identified outlier rows from the DataFrame\n",
    "df_cleaned = df.drop(index=outlier_rows)\n",
    "\n",
    "#print(df_cleaned)\n",
    "# Step 5: Convert the cleaned DataFrame to a NumPy array\n",
    "numpy_array = df_cleaned.to_numpy()\n",
    "#print(numpy_array)\n",
    "\n",
    "df_cleaned.shape"
   ]
  }
 ],
 "metadata": {
  "kernelspec": {
   "display_name": "Python 3",
   "language": "python",
   "name": "python3"
  },
  "language_info": {
   "codemirror_mode": {
    "name": "ipython",
    "version": 3
   },
   "file_extension": ".py",
   "mimetype": "text/x-python",
   "name": "python",
   "nbconvert_exporter": "python",
   "pygments_lexer": "ipython3",
   "version": "3.12.3"
  }
 },
 "nbformat": 4,
 "nbformat_minor": 2
}
