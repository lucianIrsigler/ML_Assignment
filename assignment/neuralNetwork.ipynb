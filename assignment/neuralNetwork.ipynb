{
 "cells": [
  {
   "cell_type": "raw",
   "id": "2614f2ae-6ba1-4263-894b-a2c93a6cf249",
   "metadata": {},
   "source": [
    "To see what the data is"
   ]
  },
  {
   "cell_type": "code",
   "execution_count": 31,
   "id": "15cb9171",
   "metadata": {},
   "outputs": [],
   "source": [
    "seed = 42"
   ]
  },
  {
   "cell_type": "code",
   "execution_count": 32,
   "id": "afe1fe7b-919a-4f33-9c47-183d25bd174d",
   "metadata": {},
   "outputs": [],
   "source": [
    "import numpy as np\n",
    "import matplotlib.pyplot as plt\n",
    "import scipy.ndimage\n",
    "import random\n",
    "\n",
    "def displayImage():\n",
    "    with open(\"traindata.txt\",\"r\") as f:\n",
    "        data = f.readlines()\n",
    "        index = random.randint(0,len(data))\n",
    "        index = 3\n",
    "\n",
    "        data = [float(i) for i in data[index].split(',')] # Your list of 1040 grayscale values followed by the rotation angle (as strings)\n",
    "\n",
    "        # Ensure the length of the data list is correct\n",
    "        if len(data) != 1041:\n",
    "            raise ValueError(\"The data list must contain exactly 1041 values, with the last being the rotation angle.\")\n",
    "        \n",
    "        # Separate the pixel values and the rotation angle\n",
    "        rotation_angle = float(data[-1])\n",
    "        pixels = [int(p) for p in data[:-1]]\n",
    "        \n",
    "        # Reshape the pixels array to match the desired dimensions, e.g., 40x26\n",
    "        width, height = 40, 26\n",
    "        image_array = np.array(pixels).reshape((height, width))\n",
    "        \n",
    "        # Apply the rotation to the image\n",
    "        rotated_image = scipy.ndimage.rotate(image_array, rotation_angle, reshape=True)\n",
    "        \n",
    "        # Display the image using Matplotlib\n",
    "        plt.imshow(rotated_image, cmap='gray', vmin=0, vmax=255)\n",
    "        plt.colorbar()  # Optional: adds a colorbar to indicate the scale\n",
    "        plt.title(f\"Grayscale Image {index}(Rotated {rotation_angle} degrees)\")\n",
    "        plt.show()\n"
   ]
  },
  {
   "cell_type": "raw",
   "id": "4fcaf2b1-d43e-4898-ba3b-6b9a4b28ea35",
   "metadata": {
    "vscode": {
     "languageId": "raw"
    }
   },
   "source": [
    "The dataset:\n",
    "1041 features\n",
    "1040 pixels\n",
    "1 rotation(last feature)\n",
    "\n",
    "5250 inputs\n",
    "\n",
    "Training labels are [0,20]\n",
    "\n",
    "Only rotations are [0,1,2,3]"
   ]
  },
  {
   "cell_type": "code",
   "execution_count": 33,
   "id": "ba9fa76c",
   "metadata": {},
   "outputs": [],
   "source": [
    "validClasses = [i for i in range(21)]\n",
    "pixel_arrays = []\n",
    "pixels_labels = []\n",
    "\n",
    "with open(\"traindata.txt\",\"r\") as f:\n",
    "    trainData = [i.split(\",\") for i in f.readlines()]\n",
    "\n",
    "\n",
    "with open(\"trainlabels.txt\",\"r\") as f:\n",
    "    trainLabels = f.readlines()\n",
    "\n",
    "for i in range(len(trainData)):\n",
    "    pixels = list(map(float,trainData[i][0:1040]))\n",
    "    rotation_angle = int(float(trainData[i][-1].strip()))\n",
    "    pixels = [j*(rotation_angle+1) for j in pixels]\n",
    "    \n",
    "    min_val = min(pixels)\n",
    "    max_val = max(pixels)\n",
    "    \n",
    "    for j in range(1040):\n",
    "        pixels[j] = (pixels[j]-min_val)/(max_val-min_val)\n",
    "\n",
    "    pixels.append(rotation_angle)\n",
    "    \n",
    "    pixel_arrays.append(pixels)\n",
    "    pixels_labels.append(int(trainLabels[i]))\n",
    "\n",
    "\n",
    "inputData = np.array(pixel_arrays)\n",
    "inputLabels = np.array(pixels_labels)"
   ]
  },
  {
   "cell_type": "code",
   "execution_count": 34,
   "id": "87adb998",
   "metadata": {},
   "outputs": [],
   "source": [
    "from sklearn.model_selection import train_test_split\n",
    "\n",
    "x_train, x_temp,y_train,y_temp = train_test_split(inputData,inputLabels,test_size=0.3,random_state=seed)\n",
    "x_test, x_val,y_test,y_val, = train_test_split(x_temp,y_temp, test_size=0.5, random_state=seed)"
   ]
  },
  {
   "cell_type": "code",
   "execution_count": 35,
   "id": "c20847b0",
   "metadata": {},
   "outputs": [],
   "source": [
    "import torch\n",
    "import torch.nn as nn\n",
    "import torch.nn.functional as F"
   ]
  },
  {
   "cell_type": "code",
   "execution_count": 36,
   "id": "ec438169",
   "metadata": {},
   "outputs": [],
   "source": [
    "class Model(nn.Module):\n",
    "    def __init__(self,in_features=1041,h1=256,h2=128,h3=64,out=21,embedding_dim=10):\n",
    "        super().__init__()\n",
    "        self.fc1 = nn.Linear(in_features,h1)\n",
    "        self.fc2 = nn.Linear(h1,h2)\n",
    "        self.fc3 = nn.Linear(h2,h3)\n",
    "        self.out = nn.Linear(h3,out)\n",
    "\n",
    "    def forward(self,x):\n",
    "        x = F.sigmoid(self.fc1(x))\n",
    "        x = F.sigmoid(self.fc2(x))\n",
    "        x = F.sigmoid(self.fc3(x))\n",
    "        x = self.out(x)\n",
    "        return x"
   ]
  },
  {
   "cell_type": "code",
   "execution_count": 37,
   "id": "b435c82e",
   "metadata": {},
   "outputs": [],
   "source": [
    "torch.manual_seed(seed)\n",
    "model = Model()"
   ]
  },
  {
   "cell_type": "code",
   "execution_count": 38,
   "id": "0c8a563d",
   "metadata": {},
   "outputs": [],
   "source": [
    "import pandas as pd\n",
    "import matplotlib.pyplot as plt\n",
    "%matplotlib inline"
   ]
  },
  {
   "cell_type": "code",
   "execution_count": 39,
   "id": "6b2a6a1c",
   "metadata": {},
   "outputs": [],
   "source": [
    "x_train = torch.FloatTensor(x_train)\n",
    "x_test = torch.FloatTensor(x_test)\n",
    "x_val = torch.FloatTensor(x_val)"
   ]
  },
  {
   "cell_type": "code",
   "execution_count": 40,
   "id": "65e15fdd",
   "metadata": {},
   "outputs": [],
   "source": [
    "y_train = torch.LongTensor(y_train)\n",
    "y_train = torch.LongTensor(y_train)\n",
    "y_val = torch.LongTensor(y_val)"
   ]
  },
  {
   "cell_type": "code",
   "execution_count": 41,
   "id": "137cc3c7",
   "metadata": {},
   "outputs": [],
   "source": [
    "criterion = nn.CrossEntropyLoss()\n",
    "optimizer = torch.optim.Adam(model.parameters(),lr=0.01)"
   ]
  },
  {
   "cell_type": "code",
   "execution_count": 42,
   "id": "b4eb05f5",
   "metadata": {},
   "outputs": [],
   "source": [
    "def train():\n",
    "    epochs = 1000\n",
    "    losses = []\n",
    "\n",
    "    maxEpochs = -1\n",
    "    best_val_loss = float('inf')\n",
    "    checkInterval = 1\n",
    "    printInterval = int(epochs * 0.05)\n",
    "    patience = 40  # Adjust this value as needed\n",
    "\n",
    "    no_improvement_count = 0\n",
    "\n",
    "    for epoch in range(epochs):\n",
    "        model.train()\n",
    "        y_pred = model(x_train)\n",
    "        loss = criterion(y_pred, y_train)\n",
    "        losses.append(loss.item())  # Append the loss value as a Python scalar\n",
    "        if (epoch % printInterval == 0):\n",
    "            print(f\"Epoch: {epoch} and loss: {loss.item()}\")\n",
    "\n",
    "        # Early stopping\n",
    "        if (epoch % checkInterval == 0 and epoch > 50):\n",
    "            model.eval()\n",
    "            with torch.no_grad():\n",
    "                y_val_pred = model(x_val)\n",
    "                val_loss = criterion(y_val_pred, y_val)\n",
    "                \n",
    "                if val_loss.item() < best_val_loss:\n",
    "                    best_val_loss = val_loss.item()\n",
    "                    no_improvement_count = 0  # Reset the no improvement count\n",
    "                else:\n",
    "                    no_improvement_count += 1\n",
    "                    \n",
    "                    if no_improvement_count >= patience:\n",
    "                        maxEpochs = epoch\n",
    "                        break\n",
    "        \n",
    "        optimizer.zero_grad()\n",
    "        loss.backward()\n",
    "        optimizer.step()\n",
    "    print(f\"Best epoch: {maxEpochs}\")\n",
    "    return maxEpochs,losses"
   ]
  },
  {
   "cell_type": "code",
   "execution_count": 43,
   "id": "3389fd33",
   "metadata": {},
   "outputs": [
    {
     "name": "stdout",
     "output_type": "stream",
     "text": [
      "Epoch: 0 and loss: 3.079359531402588\n",
      "Epoch: 50 and loss: 2.739992380142212\n",
      "Epoch: 100 and loss: 2.470252752304077\n",
      "Epoch: 150 and loss: 2.2555155754089355\n",
      "Epoch: 200 and loss: 2.0914552211761475\n",
      "Epoch: 250 and loss: 1.8361324071884155\n",
      "Epoch: 300 and loss: 1.6032350063323975\n",
      "Epoch: 350 and loss: 1.4580323696136475\n",
      "Epoch: 400 and loss: 1.4647718667984009\n",
      "Best epoch: 432\n"
     ]
    },
    {
     "data": {
      "text/plain": [
       "Text(0.5, 0, 'epoch')"
      ]
     },
     "execution_count": 43,
     "metadata": {},
     "output_type": "execute_result"
    },
    {
     "data": {
      "image/png": "[encoded data removed]",
      "text/plain": [
       "<Figure size 640x480 with 1 Axes>"
      ]
     },
     "metadata": {},
     "output_type": "display_data"
    }
   ],
   "source": [
    "#graph it out\n",
    "maxEpochs,losses = train()\n",
    "\n",
    "plt.plot(range(maxEpochs+1),losses)\n",
    "plt.ylabel(\"loss/error\")\n",
    "plt.xlabel(\"epoch\")"
   ]
  },
  {
   "cell_type": "code",
   "execution_count": 44,
   "id": "e55f8fe3",
   "metadata": {},
   "outputs": [
    {
     "name": "stdout",
     "output_type": "stream",
     "text": [
      "Accuracy: 0.4358322744599746\n"
     ]
    }
   ],
   "source": [
    "import json\n",
    "\n",
    "correct = 0\n",
    "incorrect = {i: {} for i in range(21)}  # Initialize the nested dictionary\n",
    "\n",
    "with torch.no_grad():\n",
    "    y_val = model.forward(x_test)\n",
    "    for i in range(len(y_val)):\n",
    "        predicted_label = y_val[i].argmax().item()\n",
    "        true_label = y_test[i].item()\n",
    "\n",
    "        if predicted_label == true_label:\n",
    "            correct += 1\n",
    "        else:\n",
    "            if predicted_label in incorrect[true_label]:\n",
    "                incorrect[true_label][predicted_label] += 1\n",
    "            else:\n",
    "                incorrect[true_label][predicted_label] = 1\n",
    "\n",
    "accuracy = correct / len(y_val)\n",
    "print(f\"Accuracy: {accuracy}\")\n",
    "\n",
    "# Save the incorrect dictionary to a JSON file\n",
    "with open('incorrect_predictions.json', 'w') as json_file:\n",
    "    json.dump(incorrect, json_file, indent=4)\n"
   ]
  },
  {
   "cell_type": "code",
   "execution_count": 45,
   "id": "f8500699",
   "metadata": {},
   "outputs": [],
   "source": [
    "# save model\n",
    "torch.save(model.state_dict(),\"classify.pt\")"
   ]
  }
 ],
 "metadata": {
  "kernelspec": {
   "display_name": "Python 3 (ipykernel)",
   "language": "python",
   "name": "python3"
  },
  "language_info": {
   "codemirror_mode": {
    "name": "ipython",
    "version": 3
   },
   "file_extension": ".py",
   "mimetype": "text/x-python",
   "name": "python",
   "nbconvert_exporter": "python",
   "pygments_lexer": "ipython3",
   "version": "3.12.2"
  }
 },
 "nbformat": 4,
 "nbformat_minor": 5
}
