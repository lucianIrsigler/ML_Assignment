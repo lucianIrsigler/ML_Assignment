{
 "cells": [
  {
   "cell_type": "code",
   "execution_count": 96,
   "metadata": {},
   "outputs": [],
   "source": [
    "import torch\n",
    "import torch.nn as nn\n",
    "import torch.nn.functional as F"
   ]
  },
  {
   "cell_type": "code",
   "execution_count": 97,
   "metadata": {},
   "outputs": [],
   "source": [
    "class Model(nn.Module):\n",
    "    def __init__(self,in_features=4,h1=8,h2=9,out=3):\n",
    "        super().__init__() #init nn.module\n",
    "        self.fc1 = nn.Linear(in_features,h1)\n",
    "        self.fc2 = nn.Linear(h1,h2)\n",
    "        self.out = nn.Linear(h2,out)\n",
    "\n",
    "    def forward(self,x):\n",
    "        x = F.relu(self.fc1(x))\n",
    "        x = F.relu(self.fc2(x))\n",
    "        x = self.out(x)\n",
    "\n",
    "        return x"
   ]
  },
  {
   "cell_type": "code",
   "execution_count": 98,
   "metadata": {},
   "outputs": [],
   "source": [
    "# Pick a manual seed for randomization\n",
    "torch.manual_seed(41)\n",
    "\n",
    "#create instance of model\n",
    "model = Model()\n"
   ]
  },
  {
   "cell_type": "code",
   "execution_count": 99,
   "metadata": {},
   "outputs": [],
   "source": [
    "import pandas as pd\n",
    "import matplotlib.pyplot as plt\n",
    "%matplotlib inline"
   ]
  },
  {
   "cell_type": "code",
   "execution_count": 100,
   "metadata": {},
   "outputs": [],
   "source": [
    "url = 'https://gist.githubusercontent.com/curran/a08a1080b88344b0c8a7/raw/0e7a9b0a5d22642a06d3d5b9bcbad9890c8ee534/iris.csv'\n",
    "my_df = pd.read_csv(url)"
   ]
  },
  {
   "cell_type": "code",
   "execution_count": 101,
   "metadata": {},
   "outputs": [
    {
     "name": "stderr",
     "output_type": "stream",
     "text": [
      "/tmp/ipykernel_243549/3458404594.py:4: FutureWarning: Downcasting behavior in `replace` is deprecated and will be removed in a future version. To retain the old behavior, explicitly call `result.infer_objects(copy=False)`. To opt-in to the future behavior, set `pd.set_option('future.no_silent_downcasting', True)`\n",
      "  my_df[\"species\"] = my_df[\"species\"].replace(\"virginica\",2)\n"
     ]
    }
   ],
   "source": [
    "#change last column\n",
    "my_df[\"species\"] = my_df[\"species\"].replace(\"setosa\",0)\n",
    "my_df[\"species\"] = my_df[\"species\"].replace(\"versicolor\",1)\n",
    "my_df[\"species\"] = my_df[\"species\"].replace(\"virginica\",2)"
   ]
  },
  {
   "cell_type": "code",
   "execution_count": 102,
   "metadata": {},
   "outputs": [],
   "source": [
    "#train test and split things\n",
    "#axis 1 -> column, axis 0 -> row\n",
    "X = my_df.drop(\"species\",axis=1)\n",
    "y = my_df[\"species\"]"
   ]
  },
  {
   "cell_type": "code",
   "execution_count": 103,
   "metadata": {},
   "outputs": [],
   "source": [
    "X = X.values\n",
    "y = y.values"
   ]
  },
  {
   "cell_type": "code",
   "execution_count": 104,
   "metadata": {},
   "outputs": [],
   "source": [
    "from sklearn.model_selection import train_test_split"
   ]
  },
  {
   "cell_type": "code",
   "execution_count": 105,
   "metadata": {},
   "outputs": [],
   "source": [
    "X_train,X_test,y_train,y_test = train_test_split(X,y,test_size=0.2, random_state=42)"
   ]
  },
  {
   "cell_type": "code",
   "execution_count": 106,
   "metadata": {},
   "outputs": [],
   "source": [
    "#floats-> FloatTensor\n",
    "X_train = torch.FloatTensor(X_train)\n",
    "X_test = torch.FloatTensor(X_test)"
   ]
  },
  {
   "cell_type": "code",
   "execution_count": 107,
   "metadata": {},
   "outputs": [],
   "source": [
    "# long for labels. 64 bit ints (long). Int\n",
    "y_train = torch.LongTensor(y_train)\n",
    "y_test = torch.LongTensor(y_test)"
   ]
  },
  {
   "cell_type": "code",
   "execution_count": 108,
   "metadata": {},
   "outputs": [],
   "source": [
    "#measure criterion of model to measure error => how far pred from actual\n",
    "criterion = nn.CrossEntropyLoss()\n",
    "# choose Adam Optimizer, set learning rate (lr) \n",
    "# [if error doesnt go down after bunch of iterations(epochs)], lower lr\n",
    "# lower lr => longer to train\n",
    "optimizer = torch.optim.Adam(model.parameters(),lr=0.01)"
   ]
  },
  {
   "cell_type": "code",
   "execution_count": 109,
   "metadata": {},
   "outputs": [
    {
     "name": "stdout",
     "output_type": "stream",
     "text": [
      "Epoch:0 and loss: 1.125285267829895\n",
      "Epoch:10 and loss: 1.0188318490982056\n",
      "Epoch:20 and loss: 0.8338496685028076\n",
      "Epoch:30 and loss: 0.6025498509407043\n",
      "Epoch:40 and loss: 0.41379639506340027\n",
      "Epoch:50 and loss: 0.28254783153533936\n",
      "Epoch:60 and loss: 0.19306635856628418\n",
      "Epoch:70 and loss: 0.13670380413532257\n",
      "Epoch:80 and loss: 0.10248854011297226\n",
      "Epoch:90 and loss: 0.08341798931360245\n"
     ]
    }
   ],
   "source": [
    "#Train model\n",
    "#Epoch? => one run through all the training data in network\n",
    "\n",
    "#how many runs\n",
    "epochs = 100\n",
    "losses = []\n",
    "\n",
    "for i in range(epochs):\n",
    "    # go forward and get a predicition\n",
    "    y_pred = model.forward(X_train) # get predicted results\n",
    "\n",
    "    #measure loss/error\n",
    "    loss = criterion(y_pred,y_train)\n",
    "\n",
    "    losses.append(loss.detach().numpy())\n",
    "\n",
    "    if (i%10==0):\n",
    "        print(f\"Epoch:{i} and loss: {loss}\")\n",
    "\n",
    "    # do back prop\n",
    "    # take error rate of forward\n",
    "    # take back thru network and fine tune weights\n",
    "    optimizer.zero_grad()\n",
    "    loss.backward()\n",
    "    optimizer.step()"
   ]
  },
  {
   "cell_type": "code",
   "execution_count": 110,
   "metadata": {},
   "outputs": [
    {
     "data": {
      "text/plain": [
       "Text(0.5, 0, 'epoch')"
      ]
     },
     "execution_count": 110,
     "metadata": {},
     "output_type": "execute_result"
    },
    {
     "data": {
      "image/png": "[encoded data removed]",
      "text/plain": [
       "<Figure size 640x480 with 1 Axes>"
      ]
     },
     "metadata": {},
     "output_type": "display_data"
    }
   ],
   "source": [
    "#graph it out\n",
    "plt.plot(range(epochs),losses)\n",
    "plt.ylabel(\"loss/error\")\n",
    "plt.xlabel(\"epoch\")"
   ]
  },
  {
   "cell_type": "code",
   "execution_count": 111,
   "metadata": {},
   "outputs": [],
   "source": [
    "# https://www.youtube.com/watch?v=rgBu8CbH9XY&ab_channel=Codemy.com\n",
    "\n",
    "# vadliate on test data\n",
    "with torch.no_grad(): #turn off back prop\n",
    "    y_eval = model.forward(X_test) #X_tests are features, y_eval is pred\n",
    "    loss = criterion(y_eval,y_test) #find error/loss"
   ]
  },
  {
   "cell_type": "code",
   "execution_count": 112,
   "metadata": {},
   "outputs": [
    {
     "name": "stdout",
     "output_type": "stream",
     "text": [
      "Correct:30\n"
     ]
    }
   ],
   "source": [
    "correct = 0\n",
    "\n",
    "with torch.no_grad():\n",
    "    for i,data in enumerate(X_test):\n",
    "        y_val = model.forward(data)\n",
    "        #print(f\"{i+1}:{str(y_val)}\\t{y_test[i]}\") #predicted vs actual\n",
    "        #highest number = what network thinks flower it is\n",
    "\n",
    "        # correct or not\n",
    "        if y_val.argmax().item()==y_test[i]:\n",
    "            correct+=1\n",
    "\n",
    "print(f\"Correct:{correct}\")"
   ]
  },
  {
   "cell_type": "code",
   "execution_count": 113,
   "metadata": {},
   "outputs": [],
   "source": [
    "#https://www.youtube.com/watch?v=cQFdpbDzptI&ab_channel=Codemy.com\n",
    "\n",
    "new_iris =  torch.tensor([4.7,3.2,1.3,0.2]) #new data point"
   ]
  },
  {
   "cell_type": "code",
   "execution_count": 114,
   "metadata": {},
   "outputs": [
    {
     "name": "stdout",
     "output_type": "stream",
     "text": [
      "tensor([ 4.6472, -2.3355, -2.9044])\n"
     ]
    }
   ],
   "source": [
    "with torch.no_grad():\n",
    "    print(model(new_iris))"
   ]
  },
  {
   "cell_type": "code",
   "execution_count": 115,
   "metadata": {},
   "outputs": [],
   "source": [
    "# https://www.youtube.com/watch?v=KvshNSVBuaI&ab_channel=Codemy.com\n",
    "\n",
    "# Save our NN model\n",
    "\n",
    "torch.save(model.state_dict(),\"iris_model.pt\")"
   ]
  },
  {
   "cell_type": "code",
   "execution_count": 116,
   "metadata": {},
   "outputs": [
    {
     "data": {
      "text/plain": [
       "<All keys matched successfully>"
      ]
     },
     "execution_count": 116,
     "metadata": {},
     "output_type": "execute_result"
    }
   ],
   "source": [
    "# load saved NN model\n",
    "new_model = Model()\n",
    "\n",
    "new_model.load_state_dict(torch.load(\"iris_model.pt\"))"
   ]
  },
  {
   "cell_type": "code",
   "execution_count": 117,
   "metadata": {},
   "outputs": [
    {
     "data": {
      "text/plain": [
       "Model(\n",
       "  (fc1): Linear(in_features=4, out_features=8, bias=True)\n",
       "  (fc2): Linear(in_features=8, out_features=9, bias=True)\n",
       "  (out): Linear(in_features=9, out_features=3, bias=True)\n",
       ")"
      ]
     },
     "execution_count": 117,
     "metadata": {},
     "output_type": "execute_result"
    }
   ],
   "source": [
    "new_model.eval() #make sure it loaded properly"
   ]
  }
 ],
 "metadata": {
  "kernelspec": {
   "display_name": "Python 3",
   "language": "python",
   "name": "python3"
  },
  "language_info": {
   "codemirror_mode": {
    "name": "ipython",
    "version": 3
   },
   "file_extension": ".py",
   "mimetype": "text/x-python",
   "name": "python",
   "nbconvert_exporter": "python",
   "pygments_lexer": "ipython3",
   "version": "3.12.2"
  }
 },
 "nbformat": 4,
 "nbformat_minor": 2
}
